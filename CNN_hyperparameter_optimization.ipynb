{
  "nbformat": 4,
  "nbformat_minor": 0,
  "metadata": {
    "colab": {
      "provenance": []
    },
    "kernelspec": {
      "name": "python3",
      "display_name": "Python 3"
    },
    "language_info": {
      "name": "python"
    }
  },
  "cells": [
    {
      "cell_type": "code",
      "execution_count": 1,
      "metadata": {
        "colab": {
          "base_uri": "https://localhost:8080/"
        },
        "id": "12sZfbM1VLzR",
        "outputId": "3f435ce9-cb53-437d-f7ff-a942555cefb2"
      },
      "outputs": [
        {
          "output_type": "stream",
          "name": "stdout",
          "text": [
            "Collecting keras-tuner\n",
            "  Downloading keras_tuner-1.3.5-py3-none-any.whl (176 kB)\n",
            "\u001b[?25l     \u001b[90m━━━━━━━━━━━━━━━━━━━━━━━━━━━━━━━━━━━━━━━━\u001b[0m \u001b[32m0.0/176.1 kB\u001b[0m \u001b[31m?\u001b[0m eta \u001b[36m-:--:--\u001b[0m\r\u001b[2K     \u001b[91m━━━━━━━━━━━━━━━━━━\u001b[0m\u001b[91m╸\u001b[0m\u001b[90m━━━━━━━━━━━━━━━━━━━━━\u001b[0m \u001b[32m81.9/176.1 kB\u001b[0m \u001b[31m2.2 MB/s\u001b[0m eta \u001b[36m0:00:01\u001b[0m\r\u001b[2K     \u001b[90m━━━━━━━━━━━━━━━━━━━━━━━━━━━━━━━━━━━━━━━\u001b[0m \u001b[32m176.1/176.1 kB\u001b[0m \u001b[31m3.2 MB/s\u001b[0m eta \u001b[36m0:00:00\u001b[0m\n",
            "\u001b[?25hRequirement already satisfied: packaging in /usr/local/lib/python3.10/dist-packages (from keras-tuner) (23.1)\n",
            "Requirement already satisfied: requests in /usr/local/lib/python3.10/dist-packages (from keras-tuner) (2.31.0)\n",
            "Collecting kt-legacy (from keras-tuner)\n",
            "  Downloading kt_legacy-1.0.5-py3-none-any.whl (9.6 kB)\n",
            "Requirement already satisfied: charset-normalizer<4,>=2 in /usr/local/lib/python3.10/dist-packages (from requests->keras-tuner) (3.2.0)\n",
            "Requirement already satisfied: idna<4,>=2.5 in /usr/local/lib/python3.10/dist-packages (from requests->keras-tuner) (3.4)\n",
            "Requirement already satisfied: urllib3<3,>=1.21.1 in /usr/local/lib/python3.10/dist-packages (from requests->keras-tuner) (2.0.4)\n",
            "Requirement already satisfied: certifi>=2017.4.17 in /usr/local/lib/python3.10/dist-packages (from requests->keras-tuner) (2023.7.22)\n",
            "Installing collected packages: kt-legacy, keras-tuner\n",
            "Successfully installed keras-tuner-1.3.5 kt-legacy-1.0.5\n"
          ]
        }
      ],
      "source": [
        "!pip install keras-tuner"
      ]
    },
    {
      "cell_type": "code",
      "source": [
        "import tensorflow as tf\n",
        "from tensorflow import keras\n",
        "import numpy as np"
      ],
      "metadata": {
        "id": "L1t5nEEGXSgF"
      },
      "execution_count": 2,
      "outputs": []
    },
    {
      "cell_type": "code",
      "source": [
        "##This is the multiclass classification problem, create the CNN model\n",
        "\n",
        "fashion_mnist=keras.datasets.fashion_mnist"
      ],
      "metadata": {
        "id": "adxRz4U5XyQo"
      },
      "execution_count": 3,
      "outputs": []
    },
    {
      "cell_type": "code",
      "source": [
        "(train_images,train_labels),(test_images,test_labels)=fashion_mnist.load_data()"
      ],
      "metadata": {
        "colab": {
          "base_uri": "https://localhost:8080/"
        },
        "id": "uJ05C5sfX4gU",
        "outputId": "464b7271-6c5a-4794-e650-44f261b635b9"
      },
      "execution_count": 4,
      "outputs": [
        {
          "output_type": "stream",
          "name": "stdout",
          "text": [
            "Downloading data from https://storage.googleapis.com/tensorflow/tf-keras-datasets/train-labels-idx1-ubyte.gz\n",
            "29515/29515 [==============================] - 0s 0us/step\n",
            "Downloading data from https://storage.googleapis.com/tensorflow/tf-keras-datasets/train-images-idx3-ubyte.gz\n",
            "26421880/26421880 [==============================] - 0s 0us/step\n",
            "Downloading data from https://storage.googleapis.com/tensorflow/tf-keras-datasets/t10k-labels-idx1-ubyte.gz\n",
            "5148/5148 [==============================] - 0s 0us/step\n",
            "Downloading data from https://storage.googleapis.com/tensorflow/tf-keras-datasets/t10k-images-idx3-ubyte.gz\n",
            "4422102/4422102 [==============================] - 0s 0us/step\n"
          ]
        }
      ]
    },
    {
      "cell_type": "code",
      "source": [
        "##In case of image it has the pixles lies between 1 to 255 so, i have to scale down it to 0 to 1 so,divide it by 255.0\n",
        "train_images=train_images/255.0\n",
        "test_images=test_images/255.0"
      ],
      "metadata": {
        "id": "o9BhBnCQX8cV"
      },
      "execution_count": 5,
      "outputs": []
    },
    {
      "cell_type": "code",
      "source": [
        "train_images[0].shape"
      ],
      "metadata": {
        "colab": {
          "base_uri": "https://localhost:8080/"
        },
        "id": "SC-wFUbQYAXP",
        "outputId": "3c3c063f-dcf4-48bb-d8c0-15bd4eb8898a"
      },
      "execution_count": 6,
      "outputs": [
        {
          "output_type": "execute_result",
          "data": {
            "text/plain": [
              "(28, 28)"
            ]
          },
          "metadata": {},
          "execution_count": 6
        }
      ]
    },
    {
      "cell_type": "code",
      "source": [
        "train_images=train_images.reshape(len(train_images),28,28,1)       ## image is of pixels 28*28 and no. of channel is 1 i.e it is the Greyscale image\n",
        "test_images=test_images.reshape(len(test_images),28,28,1)"
      ],
      "metadata": {
        "id": "mX9LKaggYwut"
      },
      "execution_count": 7,
      "outputs": []
    },
    {
      "cell_type": "code",
      "source": [
        "def build_model(hp):                                 ## hp means hyperparameters\n",
        "  model = keras.Sequential([                         ## Create the sequential model\n",
        "    keras.layers.Conv2D(\n",
        "        filters=hp.Int('conv_1_filter', min_value=32, max_value=128, step=16),    ##In the first conv. layers number of filters lies between 32 to 128 min.value is 32 and max. value is 128 and we have to try i.e itterate on all of these to take the best one and take the step size of 16\n",
        "        kernel_size=hp.Choice('conv_1_kernel', values = [3,5]),           ## Take either 3*3 or 5*5 as the kernel size\n",
        "        activation='relu',                                               ##Apply the RELU activation function\n",
        "        input_shape=(28,28,1)\n",
        "    ),\n",
        "    keras.layers.Conv2D(\n",
        "        filters=hp.Int('conv_2_filter', min_value=32, max_value=64, step=16),             ##In the second conv. layers number of filters lies between 32 to 64 min.value is 32 and max. value is 64 and we have to try i.e itterate on all of these to take the best one and take the step size of 16\n",
        "        kernel_size=hp.Choice('conv_2_kernel', values = [3,5]),                             ## Take either 3*3 or 5*5 as the kernel size\n",
        "        activation='relu'\n",
        "    ),\n",
        "    keras.layers.Flatten(),                                                          ##Flatten it i.e stacked one over the other\n",
        "    keras.layers.Dense(\n",
        "        units=hp.Int('dense_1_units', min_value=32, max_value=128, step=16),        ##In the first hidden layer number of neurons lies between 32 to 128 and we have to check it with the step size of 16 and take the best number of neurons\n",
        "        activation='relu'\n",
        "    ),\n",
        "    keras.layers.Dense(10, activation='softmax')                                  ##In the output layer number of neurons is 10 and take the activation function as the softmax\n",
        "  ])\n",
        "\n",
        "  model.compile(optimizer=keras.optimizers.Adam(hp.Choice('learning_rate', values=[1e-2, 1e-3,1e-4])),     ##Choose the learning rate value out of them and apply the Adam optimizer\n",
        "              loss='sparse_categorical_crossentropy',                              #Since it is the multiclassclassification problem so,apply the metrics as the accuracy and loss as the sparse categorical crossentropy\n",
        "              metrics=['accuracy'])\n",
        "\n",
        "  return model"
      ],
      "metadata": {
        "id": "P36zv23wZF2M"
      },
      "execution_count": 8,
      "outputs": []
    },
    {
      "cell_type": "code",
      "source": [
        "from kerastuner import RandomSearch                                    ##Apply the Hyperparameter tunnning using Randomsearch\n",
        "from kerastuner.engine.hyperparameters import HyperParameters\n",
        "\n"
      ],
      "metadata": {
        "colab": {
          "base_uri": "https://localhost:8080/"
        },
        "id": "pAidzIhUduiQ",
        "outputId": "580a3ced-cbe2-46fa-891c-50d1a4e1427d"
      },
      "execution_count": 9,
      "outputs": [
        {
          "output_type": "stream",
          "name": "stderr",
          "text": [
            "<ipython-input-9-2618f17054e6>:1: DeprecationWarning: `import kerastuner` is deprecated, please use `import keras_tuner`.\n",
            "  from kerastuner import RandomSearch                                    ##Apply the Hyperparameter tunnning using Randomsearch\n"
          ]
        }
      ]
    },
    {
      "cell_type": "code",
      "source": [
        "##Feeding the models and parameters to Random Search\n",
        "\n",
        "tuner=RandomSearch(build_model,\n",
        "                          objective='val_accuracy',\n",
        "                          max_trials=5,directory='output',project_name=\"Mnist Fashion\")  ##This will run for (5*3=15) times for 3 epochs"
      ],
      "metadata": {
        "id": "Ua6U9a4leica"
      },
      "execution_count": 12,
      "outputs": []
    },
    {
      "cell_type": "code",
      "source": [
        "##This  tells us how many parameters we are tunning\n",
        "\n",
        "tuner.search_space_summary()"
      ],
      "metadata": {
        "colab": {
          "base_uri": "https://localhost:8080/"
        },
        "id": "4kxPAUszfMOc",
        "outputId": "8588a44c-ae0d-4783-9e7b-dc88169aaa4f"
      },
      "execution_count": 13,
      "outputs": [
        {
          "output_type": "stream",
          "name": "stdout",
          "text": [
            "Search space summary\n",
            "Default search space size: 6\n",
            "conv_1_filter (Int)\n",
            "{'default': None, 'conditions': [], 'min_value': 32, 'max_value': 128, 'step': 16, 'sampling': 'linear'}\n",
            "conv_1_kernel (Choice)\n",
            "{'default': 3, 'conditions': [], 'values': [3, 5], 'ordered': True}\n",
            "conv_2_filter (Int)\n",
            "{'default': None, 'conditions': [], 'min_value': 32, 'max_value': 64, 'step': 16, 'sampling': 'linear'}\n",
            "conv_2_kernel (Choice)\n",
            "{'default': 3, 'conditions': [], 'values': [3, 5], 'ordered': True}\n",
            "dense_1_units (Int)\n",
            "{'default': None, 'conditions': [], 'min_value': 32, 'max_value': 128, 'step': 16, 'sampling': 'linear'}\n",
            "learning_rate (Choice)\n",
            "{'default': 0.01, 'conditions': [], 'values': [0.01, 0.001, 0.0001], 'ordered': True}\n"
          ]
        }
      ]
    },
    {
      "cell_type": "code",
      "source": [
        "##Fitting the tuner on train datasets\n",
        "\n",
        "tuner.search(train_images,train_labels,epochs=3,validation_split=0.1)"
      ],
      "metadata": {
        "colab": {
          "base_uri": "https://localhost:8080/"
        },
        "id": "or1ohb7PfhCF",
        "outputId": "7109970f-ff07-4c17-999b-d93c69bfa817"
      },
      "execution_count": 14,
      "outputs": [
        {
          "output_type": "stream",
          "name": "stdout",
          "text": [
            "Trial 5 Complete [00h 23m 12s]\n",
            "val_accuracy: 0.9133333563804626\n",
            "\n",
            "Best val_accuracy So Far: 0.9133333563804626\n",
            "Total elapsed time: 01h 51m 17s\n"
          ]
        }
      ]
    },
    {
      "cell_type": "code",
      "source": [
        "tuner.results_summary()"
      ],
      "metadata": {
        "colab": {
          "base_uri": "https://localhost:8080/"
        },
        "id": "ayoYGKR9k4nn",
        "outputId": "e0bb80f5-36fa-4b74-e432-8cd6141a01f4"
      },
      "execution_count": 15,
      "outputs": [
        {
          "output_type": "stream",
          "name": "stdout",
          "text": [
            "Results summary\n",
            "Results in output/Mnist Fashion\n",
            "Showing 10 best trials\n",
            "Objective(name=\"val_accuracy\", direction=\"max\")\n",
            "\n",
            "Trial 4 summary\n",
            "Hyperparameters:\n",
            "conv_1_filter: 80\n",
            "conv_1_kernel: 3\n",
            "conv_2_filter: 32\n",
            "conv_2_kernel: 5\n",
            "dense_1_units: 80\n",
            "learning_rate: 0.001\n",
            "Score: 0.9133333563804626\n",
            "\n",
            "Trial 0 summary\n",
            "Hyperparameters:\n",
            "conv_1_filter: 112\n",
            "conv_1_kernel: 3\n",
            "conv_2_filter: 32\n",
            "conv_2_kernel: 3\n",
            "dense_1_units: 80\n",
            "learning_rate: 0.001\n",
            "Score: 0.9121666550636292\n",
            "\n",
            "Trial 1 summary\n",
            "Hyperparameters:\n",
            "conv_1_filter: 80\n",
            "conv_1_kernel: 3\n",
            "conv_2_filter: 32\n",
            "conv_2_kernel: 5\n",
            "dense_1_units: 64\n",
            "learning_rate: 0.001\n",
            "Score: 0.9108333587646484\n",
            "\n",
            "Trial 3 summary\n",
            "Hyperparameters:\n",
            "conv_1_filter: 96\n",
            "conv_1_kernel: 3\n",
            "conv_2_filter: 64\n",
            "conv_2_kernel: 5\n",
            "dense_1_units: 32\n",
            "learning_rate: 0.001\n",
            "Score: 0.9081666469573975\n",
            "\n",
            "Trial 2 summary\n",
            "Hyperparameters:\n",
            "conv_1_filter: 48\n",
            "conv_1_kernel: 5\n",
            "conv_2_filter: 64\n",
            "conv_2_kernel: 3\n",
            "dense_1_units: 128\n",
            "learning_rate: 0.0001\n",
            "Score: 0.8928333520889282\n"
          ]
        }
      ]
    },
    {
      "cell_type": "code",
      "source": [],
      "metadata": {
        "id": "qvXu7nq2-hnU"
      },
      "execution_count": null,
      "outputs": []
    }
  ]
}